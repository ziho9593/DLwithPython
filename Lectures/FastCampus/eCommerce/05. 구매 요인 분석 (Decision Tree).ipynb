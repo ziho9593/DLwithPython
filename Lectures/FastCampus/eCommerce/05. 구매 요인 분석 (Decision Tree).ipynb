{
 "cells": [
  {
   "cell_type": "markdown",
   "metadata": {},
   "source": [
    "## Chapter 05. 구매 요인 분석 (Decision Tree)\n",
    "\n",
    "### 01. 분석의 목적\n",
    "- Decision Tree 모델을 통하여 온라인 경매 아이템 판매여부를 예측하고 각 변수의 영향도를 확인\n",
    "- Binary Classification에 속함\n",
    "\n",
    "### 02. 모듈, 데이터 로딩 및 데이터 확인"
   ]
  },
  {
   "cell_type": "code",
   "execution_count": 1,
   "metadata": {},
   "outputs": [],
   "source": [
    "import pandas as pd\n",
    "import numpy as np\n",
    "import matplotlib.pyplot as plt\n",
    "import seaborn as sns\n",
    "import warnings\n",
    "warnings.simplefilter(action='ignore', category=FutureWarning)"
   ]
  },
  {
   "cell_type": "code",
   "execution_count": 2,
   "metadata": {},
   "outputs": [
    {
     "data": {
      "text/html": [
       "<div>\n",
       "<style scoped>\n",
       "    .dataframe tbody tr th:only-of-type {\n",
       "        vertical-align: middle;\n",
       "    }\n",
       "\n",
       "    .dataframe tbody tr th {\n",
       "        vertical-align: top;\n",
       "    }\n",
       "\n",
       "    .dataframe thead th {\n",
       "        text-align: right;\n",
       "    }\n",
       "</style>\n",
       "<table border=\"1\" class=\"dataframe\">\n",
       "  <thead>\n",
       "    <tr style=\"text-align: right;\">\n",
       "      <th></th>\n",
       "      <th>BuyItNow</th>\n",
       "      <th>startprice</th>\n",
       "      <th>carrier</th>\n",
       "      <th>color</th>\n",
       "      <th>productline</th>\n",
       "      <th>noDescription</th>\n",
       "      <th>charCountDescription</th>\n",
       "      <th>upperCaseDescription</th>\n",
       "      <th>sold</th>\n",
       "    </tr>\n",
       "  </thead>\n",
       "  <tbody>\n",
       "    <tr>\n",
       "      <th>0</th>\n",
       "      <td>0</td>\n",
       "      <td>199.99</td>\n",
       "      <td>None</td>\n",
       "      <td>White</td>\n",
       "      <td>Galaxy_S9</td>\n",
       "      <td>contains description</td>\n",
       "      <td>0</td>\n",
       "      <td>0</td>\n",
       "      <td>1</td>\n",
       "    </tr>\n",
       "    <tr>\n",
       "      <th>1</th>\n",
       "      <td>0</td>\n",
       "      <td>235.00</td>\n",
       "      <td>None</td>\n",
       "      <td>NaN</td>\n",
       "      <td>Galaxy_Note9</td>\n",
       "      <td>contains description</td>\n",
       "      <td>0</td>\n",
       "      <td>0</td>\n",
       "      <td>0</td>\n",
       "    </tr>\n",
       "    <tr>\n",
       "      <th>2</th>\n",
       "      <td>0</td>\n",
       "      <td>199.99</td>\n",
       "      <td>NaN</td>\n",
       "      <td>NaN</td>\n",
       "      <td>Unknown</td>\n",
       "      <td>no description</td>\n",
       "      <td>100</td>\n",
       "      <td>2</td>\n",
       "      <td>0</td>\n",
       "    </tr>\n",
       "    <tr>\n",
       "      <th>3</th>\n",
       "      <td>1</td>\n",
       "      <td>175.00</td>\n",
       "      <td>AT&amp;T</td>\n",
       "      <td>Space Gray</td>\n",
       "      <td>Galaxy_Note9</td>\n",
       "      <td>contains description</td>\n",
       "      <td>0</td>\n",
       "      <td>0</td>\n",
       "      <td>1</td>\n",
       "    </tr>\n",
       "    <tr>\n",
       "      <th>4</th>\n",
       "      <td>1</td>\n",
       "      <td>100.00</td>\n",
       "      <td>None</td>\n",
       "      <td>Space Gray</td>\n",
       "      <td>Galaxy_S8</td>\n",
       "      <td>contains description</td>\n",
       "      <td>0</td>\n",
       "      <td>0</td>\n",
       "      <td>1</td>\n",
       "    </tr>\n",
       "  </tbody>\n",
       "</table>\n",
       "</div>"
      ],
      "text/plain": [
       "   BuyItNow  startprice carrier       color   productline  \\\n",
       "0         0      199.99    None       White     Galaxy_S9   \n",
       "1         0      235.00    None         NaN  Galaxy_Note9   \n",
       "2         0      199.99     NaN         NaN       Unknown   \n",
       "3         1      175.00    AT&T  Space Gray  Galaxy_Note9   \n",
       "4         1      100.00    None  Space Gray     Galaxy_S8   \n",
       "\n",
       "          noDescription  charCountDescription  upperCaseDescription  sold  \n",
       "0  contains description                     0                     0     1  \n",
       "1  contains description                     0                     0     0  \n",
       "2        no description                   100                     2     0  \n",
       "3  contains description                     0                     0     1  \n",
       "4  contains description                     0                     0     1  "
      ]
     },
     "execution_count": 2,
     "metadata": {},
     "output_type": "execute_result"
    }
   ],
   "source": [
    "data = pd.read_csv(\"./data/galaxy.csv\")\n",
    "\n",
    "data.head()"
   ]
  },
  {
   "cell_type": "code",
   "execution_count": 3,
   "metadata": {},
   "outputs": [
    {
     "name": "stdout",
     "output_type": "stream",
     "text": [
      "<class 'pandas.core.frame.DataFrame'>\n",
      "RangeIndex: 1485 entries, 0 to 1484\n",
      "Data columns (total 9 columns):\n",
      " #   Column                Non-Null Count  Dtype  \n",
      "---  ------                --------------  -----  \n",
      " 0   BuyItNow              1485 non-null   int64  \n",
      " 1   startprice            1485 non-null   float64\n",
      " 2   carrier               1179 non-null   object \n",
      " 3   color                 892 non-null    object \n",
      " 4   productline           1485 non-null   object \n",
      " 5   noDescription         1485 non-null   object \n",
      " 6   charCountDescription  1485 non-null   int64  \n",
      " 7   upperCaseDescription  1485 non-null   int64  \n",
      " 8   sold                  1485 non-null   int64  \n",
      "dtypes: float64(1), int64(4), object(4)\n",
      "memory usage: 104.5+ KB\n"
     ]
    }
   ],
   "source": [
    "data.info()"
   ]
  },
  {
   "cell_type": "code",
   "execution_count": 4,
   "metadata": {},
   "outputs": [
    {
     "data": {
      "text/html": [
       "<div>\n",
       "<style scoped>\n",
       "    .dataframe tbody tr th:only-of-type {\n",
       "        vertical-align: middle;\n",
       "    }\n",
       "\n",
       "    .dataframe tbody tr th {\n",
       "        vertical-align: top;\n",
       "    }\n",
       "\n",
       "    .dataframe thead th {\n",
       "        text-align: right;\n",
       "    }\n",
       "</style>\n",
       "<table border=\"1\" class=\"dataframe\">\n",
       "  <thead>\n",
       "    <tr style=\"text-align: right;\">\n",
       "      <th></th>\n",
       "      <th>BuyItNow</th>\n",
       "      <th>startprice</th>\n",
       "      <th>charCountDescription</th>\n",
       "      <th>upperCaseDescription</th>\n",
       "      <th>sold</th>\n",
       "    </tr>\n",
       "  </thead>\n",
       "  <tbody>\n",
       "    <tr>\n",
       "      <th>count</th>\n",
       "      <td>1485.000000</td>\n",
       "      <td>1485.000000</td>\n",
       "      <td>1485.000000</td>\n",
       "      <td>1485.000000</td>\n",
       "      <td>1485.000000</td>\n",
       "    </tr>\n",
       "    <tr>\n",
       "      <th>mean</th>\n",
       "      <td>0.449158</td>\n",
       "      <td>216.844162</td>\n",
       "      <td>31.184512</td>\n",
       "      <td>2.863300</td>\n",
       "      <td>0.461953</td>\n",
       "    </tr>\n",
       "    <tr>\n",
       "      <th>std</th>\n",
       "      <td>0.497576</td>\n",
       "      <td>172.893308</td>\n",
       "      <td>41.744518</td>\n",
       "      <td>9.418585</td>\n",
       "      <td>0.498718</td>\n",
       "    </tr>\n",
       "    <tr>\n",
       "      <th>min</th>\n",
       "      <td>0.000000</td>\n",
       "      <td>0.010000</td>\n",
       "      <td>0.000000</td>\n",
       "      <td>0.000000</td>\n",
       "      <td>0.000000</td>\n",
       "    </tr>\n",
       "    <tr>\n",
       "      <th>25%</th>\n",
       "      <td>0.000000</td>\n",
       "      <td>80.000000</td>\n",
       "      <td>0.000000</td>\n",
       "      <td>0.000000</td>\n",
       "      <td>0.000000</td>\n",
       "    </tr>\n",
       "    <tr>\n",
       "      <th>50%</th>\n",
       "      <td>0.000000</td>\n",
       "      <td>198.000000</td>\n",
       "      <td>0.000000</td>\n",
       "      <td>0.000000</td>\n",
       "      <td>0.000000</td>\n",
       "    </tr>\n",
       "    <tr>\n",
       "      <th>75%</th>\n",
       "      <td>1.000000</td>\n",
       "      <td>310.000000</td>\n",
       "      <td>79.000000</td>\n",
       "      <td>2.000000</td>\n",
       "      <td>1.000000</td>\n",
       "    </tr>\n",
       "    <tr>\n",
       "      <th>max</th>\n",
       "      <td>1.000000</td>\n",
       "      <td>999.000000</td>\n",
       "      <td>111.000000</td>\n",
       "      <td>81.000000</td>\n",
       "      <td>1.000000</td>\n",
       "    </tr>\n",
       "  </tbody>\n",
       "</table>\n",
       "</div>"
      ],
      "text/plain": [
       "          BuyItNow   startprice  charCountDescription  upperCaseDescription  \\\n",
       "count  1485.000000  1485.000000           1485.000000           1485.000000   \n",
       "mean      0.449158   216.844162             31.184512              2.863300   \n",
       "std       0.497576   172.893308             41.744518              9.418585   \n",
       "min       0.000000     0.010000              0.000000              0.000000   \n",
       "25%       0.000000    80.000000              0.000000              0.000000   \n",
       "50%       0.000000   198.000000              0.000000              0.000000   \n",
       "75%       1.000000   310.000000             79.000000              2.000000   \n",
       "max       1.000000   999.000000            111.000000             81.000000   \n",
       "\n",
       "              sold  \n",
       "count  1485.000000  \n",
       "mean      0.461953  \n",
       "std       0.498718  \n",
       "min       0.000000  \n",
       "25%       0.000000  \n",
       "50%       0.000000  \n",
       "75%       1.000000  \n",
       "max       1.000000  "
      ]
     },
     "execution_count": 4,
     "metadata": {},
     "output_type": "execute_result"
    }
   ],
   "source": [
    "data.describe()"
   ]
  },
  {
   "cell_type": "code",
   "execution_count": 5,
   "metadata": {},
   "outputs": [
    {
     "data": {
      "text/plain": [
       "<AxesSubplot:xlabel='startprice', ylabel='Density'>"
      ]
     },
     "execution_count": 5,
     "metadata": {},
     "output_type": "execute_result"
    },
    {
     "data": {
      "image/png": "[encoded data removed]",
      "text/plain": [
       "<Figure size 432x288 with 1 Axes>"
      ]
     },
     "metadata": {
      "needs_background": "light"
     },
     "output_type": "display_data"
    }
   ],
   "source": [
    "sns.distplot(data[\"startprice\"])"
   ]
  },
  {
   "cell_type": "code",
   "execution_count": 6,
   "metadata": {},
   "outputs": [
    {
     "data": {
      "text/plain": [
       "<AxesSubplot:xlabel='charCountDescription', ylabel='Density'>"
      ]
     },
     "execution_count": 6,
     "metadata": {},
     "output_type": "execute_result"
    },
    {
     "data": {
      "image/png": "[encoded data removed]",
      "text/plain": [
       "<Figure size 432x288 with 1 Axes>"
      ]
     },
     "metadata": {
      "needs_background": "light"
     },
     "output_type": "display_data"
    }
   ],
   "source": [
    "sns.distplot(data[\"charCountDescription\"])"
   ]
  },
  {
   "cell_type": "code",
   "execution_count": 7,
   "metadata": {},
   "outputs": [
    {
     "data": {
      "text/plain": [
       "<AxesSubplot:xlabel='productline', ylabel='startprice'>"
      ]
     },
     "execution_count": 7,
     "metadata": {},
     "output_type": "execute_result"
    },
    {
     "data": {
      "image/png": "[encoded data removed]",
      "text/plain": [
       "<Figure size 1440x720 with 1 Axes>"
      ]
     },
     "metadata": {
      "needs_background": "light"
     },
     "output_type": "display_data"
    }
   ],
   "source": [
    "plt.figure(figsize=(20, 10))\n",
    "sns.boxplot(x=\"productline\", y=\"startprice\", data=data)"
   ]
  },
  {
   "cell_type": "markdown",
   "metadata": {},
   "source": [
    "### 03. Missing Value 확인 및 처리"
   ]
  },
  {
   "cell_type": "code",
   "execution_count": 8,
   "metadata": {},
   "outputs": [
    {
     "data": {
      "text/plain": [
       "BuyItNow                0.000000\n",
       "startprice              0.000000\n",
       "carrier                 0.206061\n",
       "color                   0.399327\n",
       "productline             0.000000\n",
       "noDescription           0.000000\n",
       "charCountDescription    0.000000\n",
       "upperCaseDescription    0.000000\n",
       "sold                    0.000000\n",
       "dtype: float64"
      ]
     },
     "execution_count": 8,
     "metadata": {},
     "output_type": "execute_result"
    }
   ],
   "source": [
    "data.isna().sum() / len(data)"
   ]
  },
  {
   "cell_type": "markdown",
   "metadata": {},
   "source": [
    "- Text Data인 Column의 Missing Value 처리\n",
    "- 방법 1: 하나의 값이 월등하게 많은 경우, 해당 값으로 채워줌\n",
    "- 방법 2: Unknown 등으로 처리해 Missing Value 그 자체로 가져감"
   ]
  },
  {
   "cell_type": "code",
   "execution_count": 9,
   "metadata": {},
   "outputs": [
    {
     "data": {
      "text/html": [
       "<div>\n",
       "<style scoped>\n",
       "    .dataframe tbody tr th:only-of-type {\n",
       "        vertical-align: middle;\n",
       "    }\n",
       "\n",
       "    .dataframe tbody tr th {\n",
       "        vertical-align: top;\n",
       "    }\n",
       "\n",
       "    .dataframe thead th {\n",
       "        text-align: right;\n",
       "    }\n",
       "</style>\n",
       "<table border=\"1\" class=\"dataframe\">\n",
       "  <thead>\n",
       "    <tr style=\"text-align: right;\">\n",
       "      <th></th>\n",
       "      <th>BuyItNow</th>\n",
       "      <th>startprice</th>\n",
       "      <th>carrier</th>\n",
       "      <th>color</th>\n",
       "      <th>productline</th>\n",
       "      <th>noDescription</th>\n",
       "      <th>charCountDescription</th>\n",
       "      <th>upperCaseDescription</th>\n",
       "      <th>sold</th>\n",
       "    </tr>\n",
       "  </thead>\n",
       "  <tbody>\n",
       "    <tr>\n",
       "      <th>0</th>\n",
       "      <td>0</td>\n",
       "      <td>199.99</td>\n",
       "      <td>None</td>\n",
       "      <td>White</td>\n",
       "      <td>Galaxy_S9</td>\n",
       "      <td>contains description</td>\n",
       "      <td>0</td>\n",
       "      <td>0</td>\n",
       "      <td>1</td>\n",
       "    </tr>\n",
       "    <tr>\n",
       "      <th>1</th>\n",
       "      <td>0</td>\n",
       "      <td>235.00</td>\n",
       "      <td>None</td>\n",
       "      <td>Unknown</td>\n",
       "      <td>Galaxy_Note9</td>\n",
       "      <td>contains description</td>\n",
       "      <td>0</td>\n",
       "      <td>0</td>\n",
       "      <td>0</td>\n",
       "    </tr>\n",
       "    <tr>\n",
       "      <th>2</th>\n",
       "      <td>0</td>\n",
       "      <td>199.99</td>\n",
       "      <td>Unknown</td>\n",
       "      <td>Unknown</td>\n",
       "      <td>Unknown</td>\n",
       "      <td>no description</td>\n",
       "      <td>100</td>\n",
       "      <td>2</td>\n",
       "      <td>0</td>\n",
       "    </tr>\n",
       "    <tr>\n",
       "      <th>3</th>\n",
       "      <td>1</td>\n",
       "      <td>175.00</td>\n",
       "      <td>AT&amp;T</td>\n",
       "      <td>Space Gray</td>\n",
       "      <td>Galaxy_Note9</td>\n",
       "      <td>contains description</td>\n",
       "      <td>0</td>\n",
       "      <td>0</td>\n",
       "      <td>1</td>\n",
       "    </tr>\n",
       "    <tr>\n",
       "      <th>4</th>\n",
       "      <td>1</td>\n",
       "      <td>100.00</td>\n",
       "      <td>None</td>\n",
       "      <td>Space Gray</td>\n",
       "      <td>Galaxy_S8</td>\n",
       "      <td>contains description</td>\n",
       "      <td>0</td>\n",
       "      <td>0</td>\n",
       "      <td>1</td>\n",
       "    </tr>\n",
       "    <tr>\n",
       "      <th>...</th>\n",
       "      <td>...</td>\n",
       "      <td>...</td>\n",
       "      <td>...</td>\n",
       "      <td>...</td>\n",
       "      <td>...</td>\n",
       "      <td>...</td>\n",
       "      <td>...</td>\n",
       "      <td>...</td>\n",
       "      <td>...</td>\n",
       "    </tr>\n",
       "    <tr>\n",
       "      <th>1480</th>\n",
       "      <td>0</td>\n",
       "      <td>89.50</td>\n",
       "      <td>AT&amp;T</td>\n",
       "      <td>Unknown</td>\n",
       "      <td>Galaxy_S7</td>\n",
       "      <td>no description</td>\n",
       "      <td>96</td>\n",
       "      <td>2</td>\n",
       "      <td>0</td>\n",
       "    </tr>\n",
       "    <tr>\n",
       "      <th>1481</th>\n",
       "      <td>0</td>\n",
       "      <td>239.95</td>\n",
       "      <td>None</td>\n",
       "      <td>Midnight Black</td>\n",
       "      <td>Galaxy_S9</td>\n",
       "      <td>no description</td>\n",
       "      <td>97</td>\n",
       "      <td>5</td>\n",
       "      <td>1</td>\n",
       "    </tr>\n",
       "    <tr>\n",
       "      <th>1482</th>\n",
       "      <td>0</td>\n",
       "      <td>329.99</td>\n",
       "      <td>None</td>\n",
       "      <td>Space Gray</td>\n",
       "      <td>Galaxy_Note10</td>\n",
       "      <td>no description</td>\n",
       "      <td>93</td>\n",
       "      <td>1</td>\n",
       "      <td>0</td>\n",
       "    </tr>\n",
       "    <tr>\n",
       "      <th>1483</th>\n",
       "      <td>0</td>\n",
       "      <td>89.00</td>\n",
       "      <td>None</td>\n",
       "      <td>Midnight Black</td>\n",
       "      <td>Galaxy_S7</td>\n",
       "      <td>no description</td>\n",
       "      <td>92</td>\n",
       "      <td>2</td>\n",
       "      <td>1</td>\n",
       "    </tr>\n",
       "    <tr>\n",
       "      <th>1484</th>\n",
       "      <td>0</td>\n",
       "      <td>119.99</td>\n",
       "      <td>AT&amp;T</td>\n",
       "      <td>Midnight Black</td>\n",
       "      <td>Galaxy_S7</td>\n",
       "      <td>no description</td>\n",
       "      <td>96</td>\n",
       "      <td>5</td>\n",
       "      <td>0</td>\n",
       "    </tr>\n",
       "  </tbody>\n",
       "</table>\n",
       "<p>1485 rows × 9 columns</p>\n",
       "</div>"
      ],
      "text/plain": [
       "      BuyItNow  startprice  carrier           color    productline  \\\n",
       "0            0      199.99     None           White      Galaxy_S9   \n",
       "1            0      235.00     None         Unknown   Galaxy_Note9   \n",
       "2            0      199.99  Unknown         Unknown        Unknown   \n",
       "3            1      175.00     AT&T      Space Gray   Galaxy_Note9   \n",
       "4            1      100.00     None      Space Gray      Galaxy_S8   \n",
       "...        ...         ...      ...             ...            ...   \n",
       "1480         0       89.50     AT&T         Unknown      Galaxy_S7   \n",
       "1481         0      239.95     None  Midnight Black      Galaxy_S9   \n",
       "1482         0      329.99     None      Space Gray  Galaxy_Note10   \n",
       "1483         0       89.00     None  Midnight Black      Galaxy_S7   \n",
       "1484         0      119.99     AT&T  Midnight Black      Galaxy_S7   \n",
       "\n",
       "             noDescription  charCountDescription  upperCaseDescription  sold  \n",
       "0     contains description                     0                     0     1  \n",
       "1     contains description                     0                     0     0  \n",
       "2           no description                   100                     2     0  \n",
       "3     contains description                     0                     0     1  \n",
       "4     contains description                     0                     0     1  \n",
       "...                    ...                   ...                   ...   ...  \n",
       "1480        no description                    96                     2     0  \n",
       "1481        no description                    97                     5     1  \n",
       "1482        no description                    93                     1     0  \n",
       "1483        no description                    92                     2     1  \n",
       "1484        no description                    96                     5     0  \n",
       "\n",
       "[1485 rows x 9 columns]"
      ]
     },
     "execution_count": 9,
     "metadata": {},
     "output_type": "execute_result"
    }
   ],
   "source": [
    "data = data.fillna(\"Unknown\")\n",
    "\n",
    "data"
   ]
  },
  {
   "cell_type": "code",
   "execution_count": 10,
   "metadata": {},
   "outputs": [
    {
     "data": {
      "text/plain": [
       "None               863\n",
       "Unknown            306\n",
       "AT&T               177\n",
       "Verizon             87\n",
       "Sprint/T-Mobile     52\n",
       "Name: carrier, dtype: int64"
      ]
     },
     "execution_count": 10,
     "metadata": {},
     "output_type": "execute_result"
    }
   ],
   "source": [
    "data[\"carrier\"].value_counts()"
   ]
  },
  {
   "cell_type": "markdown",
   "metadata": {},
   "source": [
    "### 04. 카테고리 변수 처리"
   ]
  },
  {
   "cell_type": "code",
   "execution_count": 11,
   "metadata": {},
   "outputs": [
    {
     "data": {
      "text/plain": [
       "carrier          5\n",
       "color            8\n",
       "productline      8\n",
       "noDescription    2\n",
       "dtype: int64"
      ]
     },
     "execution_count": 11,
     "metadata": {},
     "output_type": "execute_result"
    }
   ],
   "source": [
    "data[[\"carrier\", \"color\", \"productline\", \"noDescription\"]].nunique()"
   ]
  },
  {
   "cell_type": "code",
   "execution_count": 12,
   "metadata": {},
   "outputs": [
    {
     "data": {
      "text/plain": [
       "None               863\n",
       "Unknown            306\n",
       "AT&T               177\n",
       "Verizon             87\n",
       "Sprint/T-Mobile     52\n",
       "Name: carrier, dtype: int64"
      ]
     },
     "execution_count": 12,
     "metadata": {},
     "output_type": "execute_result"
    }
   ],
   "source": [
    "data[\"carrier\"].value_counts()"
   ]
  },
  {
   "cell_type": "code",
   "execution_count": 13,
   "metadata": {},
   "outputs": [
    {
     "data": {
      "text/plain": [
       "Unknown           593\n",
       "White             328\n",
       "Midnight Black    274\n",
       "Space Gray        180\n",
       "Gold               52\n",
       "Black              38\n",
       "Aura Black         19\n",
       "Prism Black         1\n",
       "Name: color, dtype: int64"
      ]
     },
     "execution_count": 13,
     "metadata": {},
     "output_type": "execute_result"
    }
   ],
   "source": [
    "data[\"color\"].value_counts()"
   ]
  },
  {
   "cell_type": "code",
   "execution_count": 14,
   "metadata": {},
   "outputs": [
    {
     "data": {
      "text/plain": [
       "Galaxy_Note10    351\n",
       "Galaxy_S8        277\n",
       "Galaxy_S7        227\n",
       "Unknown          204\n",
       "Galaxy_S9        158\n",
       "Galaxy_Note8     153\n",
       "Galaxy_Note9     107\n",
       "Galaxy_S10         8\n",
       "Name: productline, dtype: int64"
      ]
     },
     "execution_count": 14,
     "metadata": {},
     "output_type": "execute_result"
    }
   ],
   "source": [
    "data[\"productline\"].value_counts()"
   ]
  },
  {
   "cell_type": "code",
   "execution_count": 15,
   "metadata": {},
   "outputs": [
    {
     "data": {
      "text/plain": [
       "contains description    856\n",
       "no description          629\n",
       "Name: noDescription, dtype: int64"
      ]
     },
     "execution_count": 15,
     "metadata": {},
     "output_type": "execute_result"
    }
   ],
   "source": [
    "data[\"noDescription\"].value_counts()"
   ]
  },
  {
   "cell_type": "markdown",
   "metadata": {},
   "source": [
    "- Midnight Black, Black, Aura Black, Prism Black을 따로 나눌 필요가 없다고 판단하여 Black 하나로 나머지를 변환"
   ]
  },
  {
   "cell_type": "code",
   "execution_count": 16,
   "metadata": {},
   "outputs": [
    {
     "data": {
      "text/plain": [
       "Unknown       593\n",
       "Black         332\n",
       "White         328\n",
       "Space Gray    180\n",
       "Gold           52\n",
       "Name: color, dtype: int64"
      ]
     },
     "execution_count": 16,
     "metadata": {},
     "output_type": "execute_result"
    }
   ],
   "source": [
    "def black(c):\n",
    "    if c in [\"Midnight Black\", \"Aura Black\", \"Prism Black\"]:\n",
    "        return \"Black\"\n",
    "    else:\n",
    "        return c\n",
    "\n",
    "data[\"color\"] = data[\"color\"].apply(lambda x: black(x))\n",
    "data[\"color\"].value_counts()"
   ]
  },
  {
   "cell_type": "code",
   "execution_count": 17,
   "metadata": {},
   "outputs": [
    {
     "data": {
      "text/html": [
       "<div>\n",
       "<style scoped>\n",
       "    .dataframe tbody tr th:only-of-type {\n",
       "        vertical-align: middle;\n",
       "    }\n",
       "\n",
       "    .dataframe tbody tr th {\n",
       "        vertical-align: top;\n",
       "    }\n",
       "\n",
       "    .dataframe thead th {\n",
       "        text-align: right;\n",
       "    }\n",
       "</style>\n",
       "<table border=\"1\" class=\"dataframe\">\n",
       "  <thead>\n",
       "    <tr style=\"text-align: right;\">\n",
       "      <th></th>\n",
       "      <th>BuyItNow</th>\n",
       "      <th>startprice</th>\n",
       "      <th>charCountDescription</th>\n",
       "      <th>upperCaseDescription</th>\n",
       "      <th>sold</th>\n",
       "      <th>carrier_None</th>\n",
       "      <th>carrier_Sprint/T-Mobile</th>\n",
       "      <th>carrier_Unknown</th>\n",
       "      <th>carrier_Verizon</th>\n",
       "      <th>color_Gold</th>\n",
       "      <th>...</th>\n",
       "      <th>color_Unknown</th>\n",
       "      <th>color_White</th>\n",
       "      <th>productline_Galaxy_Note8</th>\n",
       "      <th>productline_Galaxy_Note9</th>\n",
       "      <th>productline_Galaxy_S10</th>\n",
       "      <th>productline_Galaxy_S7</th>\n",
       "      <th>productline_Galaxy_S8</th>\n",
       "      <th>productline_Galaxy_S9</th>\n",
       "      <th>productline_Unknown</th>\n",
       "      <th>noDescription_no description</th>\n",
       "    </tr>\n",
       "  </thead>\n",
       "  <tbody>\n",
       "    <tr>\n",
       "      <th>0</th>\n",
       "      <td>0</td>\n",
       "      <td>199.99</td>\n",
       "      <td>0</td>\n",
       "      <td>0</td>\n",
       "      <td>1</td>\n",
       "      <td>1</td>\n",
       "      <td>0</td>\n",
       "      <td>0</td>\n",
       "      <td>0</td>\n",
       "      <td>0</td>\n",
       "      <td>...</td>\n",
       "      <td>0</td>\n",
       "      <td>1</td>\n",
       "      <td>0</td>\n",
       "      <td>0</td>\n",
       "      <td>0</td>\n",
       "      <td>0</td>\n",
       "      <td>0</td>\n",
       "      <td>1</td>\n",
       "      <td>0</td>\n",
       "      <td>0</td>\n",
       "    </tr>\n",
       "    <tr>\n",
       "      <th>1</th>\n",
       "      <td>0</td>\n",
       "      <td>235.00</td>\n",
       "      <td>0</td>\n",
       "      <td>0</td>\n",
       "      <td>0</td>\n",
       "      <td>1</td>\n",
       "      <td>0</td>\n",
       "      <td>0</td>\n",
       "      <td>0</td>\n",
       "      <td>0</td>\n",
       "      <td>...</td>\n",
       "      <td>1</td>\n",
       "      <td>0</td>\n",
       "      <td>0</td>\n",
       "      <td>1</td>\n",
       "      <td>0</td>\n",
       "      <td>0</td>\n",
       "      <td>0</td>\n",
       "      <td>0</td>\n",
       "      <td>0</td>\n",
       "      <td>0</td>\n",
       "    </tr>\n",
       "    <tr>\n",
       "      <th>2</th>\n",
       "      <td>0</td>\n",
       "      <td>199.99</td>\n",
       "      <td>100</td>\n",
       "      <td>2</td>\n",
       "      <td>0</td>\n",
       "      <td>0</td>\n",
       "      <td>0</td>\n",
       "      <td>1</td>\n",
       "      <td>0</td>\n",
       "      <td>0</td>\n",
       "      <td>...</td>\n",
       "      <td>1</td>\n",
       "      <td>0</td>\n",
       "      <td>0</td>\n",
       "      <td>0</td>\n",
       "      <td>0</td>\n",
       "      <td>0</td>\n",
       "      <td>0</td>\n",
       "      <td>0</td>\n",
       "      <td>1</td>\n",
       "      <td>1</td>\n",
       "    </tr>\n",
       "    <tr>\n",
       "      <th>3</th>\n",
       "      <td>1</td>\n",
       "      <td>175.00</td>\n",
       "      <td>0</td>\n",
       "      <td>0</td>\n",
       "      <td>1</td>\n",
       "      <td>0</td>\n",
       "      <td>0</td>\n",
       "      <td>0</td>\n",
       "      <td>0</td>\n",
       "      <td>0</td>\n",
       "      <td>...</td>\n",
       "      <td>0</td>\n",
       "      <td>0</td>\n",
       "      <td>0</td>\n",
       "      <td>1</td>\n",
       "      <td>0</td>\n",
       "      <td>0</td>\n",
       "      <td>0</td>\n",
       "      <td>0</td>\n",
       "      <td>0</td>\n",
       "      <td>0</td>\n",
       "    </tr>\n",
       "    <tr>\n",
       "      <th>4</th>\n",
       "      <td>1</td>\n",
       "      <td>100.00</td>\n",
       "      <td>0</td>\n",
       "      <td>0</td>\n",
       "      <td>1</td>\n",
       "      <td>1</td>\n",
       "      <td>0</td>\n",
       "      <td>0</td>\n",
       "      <td>0</td>\n",
       "      <td>0</td>\n",
       "      <td>...</td>\n",
       "      <td>0</td>\n",
       "      <td>0</td>\n",
       "      <td>0</td>\n",
       "      <td>0</td>\n",
       "      <td>0</td>\n",
       "      <td>0</td>\n",
       "      <td>1</td>\n",
       "      <td>0</td>\n",
       "      <td>0</td>\n",
       "      <td>0</td>\n",
       "    </tr>\n",
       "    <tr>\n",
       "      <th>...</th>\n",
       "      <td>...</td>\n",
       "      <td>...</td>\n",
       "      <td>...</td>\n",
       "      <td>...</td>\n",
       "      <td>...</td>\n",
       "      <td>...</td>\n",
       "      <td>...</td>\n",
       "      <td>...</td>\n",
       "      <td>...</td>\n",
       "      <td>...</td>\n",
       "      <td>...</td>\n",
       "      <td>...</td>\n",
       "      <td>...</td>\n",
       "      <td>...</td>\n",
       "      <td>...</td>\n",
       "      <td>...</td>\n",
       "      <td>...</td>\n",
       "      <td>...</td>\n",
       "      <td>...</td>\n",
       "      <td>...</td>\n",
       "      <td>...</td>\n",
       "    </tr>\n",
       "    <tr>\n",
       "      <th>1480</th>\n",
       "      <td>0</td>\n",
       "      <td>89.50</td>\n",
       "      <td>96</td>\n",
       "      <td>2</td>\n",
       "      <td>0</td>\n",
       "      <td>0</td>\n",
       "      <td>0</td>\n",
       "      <td>0</td>\n",
       "      <td>0</td>\n",
       "      <td>0</td>\n",
       "      <td>...</td>\n",
       "      <td>1</td>\n",
       "      <td>0</td>\n",
       "      <td>0</td>\n",
       "      <td>0</td>\n",
       "      <td>0</td>\n",
       "      <td>1</td>\n",
       "      <td>0</td>\n",
       "      <td>0</td>\n",
       "      <td>0</td>\n",
       "      <td>1</td>\n",
       "    </tr>\n",
       "    <tr>\n",
       "      <th>1481</th>\n",
       "      <td>0</td>\n",
       "      <td>239.95</td>\n",
       "      <td>97</td>\n",
       "      <td>5</td>\n",
       "      <td>1</td>\n",
       "      <td>1</td>\n",
       "      <td>0</td>\n",
       "      <td>0</td>\n",
       "      <td>0</td>\n",
       "      <td>0</td>\n",
       "      <td>...</td>\n",
       "      <td>0</td>\n",
       "      <td>0</td>\n",
       "      <td>0</td>\n",
       "      <td>0</td>\n",
       "      <td>0</td>\n",
       "      <td>0</td>\n",
       "      <td>0</td>\n",
       "      <td>1</td>\n",
       "      <td>0</td>\n",
       "      <td>1</td>\n",
       "    </tr>\n",
       "    <tr>\n",
       "      <th>1482</th>\n",
       "      <td>0</td>\n",
       "      <td>329.99</td>\n",
       "      <td>93</td>\n",
       "      <td>1</td>\n",
       "      <td>0</td>\n",
       "      <td>1</td>\n",
       "      <td>0</td>\n",
       "      <td>0</td>\n",
       "      <td>0</td>\n",
       "      <td>0</td>\n",
       "      <td>...</td>\n",
       "      <td>0</td>\n",
       "      <td>0</td>\n",
       "      <td>0</td>\n",
       "      <td>0</td>\n",
       "      <td>0</td>\n",
       "      <td>0</td>\n",
       "      <td>0</td>\n",
       "      <td>0</td>\n",
       "      <td>0</td>\n",
       "      <td>1</td>\n",
       "    </tr>\n",
       "    <tr>\n",
       "      <th>1483</th>\n",
       "      <td>0</td>\n",
       "      <td>89.00</td>\n",
       "      <td>92</td>\n",
       "      <td>2</td>\n",
       "      <td>1</td>\n",
       "      <td>1</td>\n",
       "      <td>0</td>\n",
       "      <td>0</td>\n",
       "      <td>0</td>\n",
       "      <td>0</td>\n",
       "      <td>...</td>\n",
       "      <td>0</td>\n",
       "      <td>0</td>\n",
       "      <td>0</td>\n",
       "      <td>0</td>\n",
       "      <td>0</td>\n",
       "      <td>1</td>\n",
       "      <td>0</td>\n",
       "      <td>0</td>\n",
       "      <td>0</td>\n",
       "      <td>1</td>\n",
       "    </tr>\n",
       "    <tr>\n",
       "      <th>1484</th>\n",
       "      <td>0</td>\n",
       "      <td>119.99</td>\n",
       "      <td>96</td>\n",
       "      <td>5</td>\n",
       "      <td>0</td>\n",
       "      <td>0</td>\n",
       "      <td>0</td>\n",
       "      <td>0</td>\n",
       "      <td>0</td>\n",
       "      <td>0</td>\n",
       "      <td>...</td>\n",
       "      <td>0</td>\n",
       "      <td>0</td>\n",
       "      <td>0</td>\n",
       "      <td>0</td>\n",
       "      <td>0</td>\n",
       "      <td>1</td>\n",
       "      <td>0</td>\n",
       "      <td>0</td>\n",
       "      <td>0</td>\n",
       "      <td>1</td>\n",
       "    </tr>\n",
       "  </tbody>\n",
       "</table>\n",
       "<p>1485 rows × 21 columns</p>\n",
       "</div>"
      ],
      "text/plain": [
       "      BuyItNow  startprice  charCountDescription  upperCaseDescription  sold  \\\n",
       "0            0      199.99                     0                     0     1   \n",
       "1            0      235.00                     0                     0     0   \n",
       "2            0      199.99                   100                     2     0   \n",
       "3            1      175.00                     0                     0     1   \n",
       "4            1      100.00                     0                     0     1   \n",
       "...        ...         ...                   ...                   ...   ...   \n",
       "1480         0       89.50                    96                     2     0   \n",
       "1481         0      239.95                    97                     5     1   \n",
       "1482         0      329.99                    93                     1     0   \n",
       "1483         0       89.00                    92                     2     1   \n",
       "1484         0      119.99                    96                     5     0   \n",
       "\n",
       "      carrier_None  carrier_Sprint/T-Mobile  carrier_Unknown  carrier_Verizon  \\\n",
       "0                1                        0                0                0   \n",
       "1                1                        0                0                0   \n",
       "2                0                        0                1                0   \n",
       "3                0                        0                0                0   \n",
       "4                1                        0                0                0   \n",
       "...            ...                      ...              ...              ...   \n",
       "1480             0                        0                0                0   \n",
       "1481             1                        0                0                0   \n",
       "1482             1                        0                0                0   \n",
       "1483             1                        0                0                0   \n",
       "1484             0                        0                0                0   \n",
       "\n",
       "      color_Gold  ...  color_Unknown  color_White  productline_Galaxy_Note8  \\\n",
       "0              0  ...              0            1                         0   \n",
       "1              0  ...              1            0                         0   \n",
       "2              0  ...              1            0                         0   \n",
       "3              0  ...              0            0                         0   \n",
       "4              0  ...              0            0                         0   \n",
       "...          ...  ...            ...          ...                       ...   \n",
       "1480           0  ...              1            0                         0   \n",
       "1481           0  ...              0            0                         0   \n",
       "1482           0  ...              0            0                         0   \n",
       "1483           0  ...              0            0                         0   \n",
       "1484           0  ...              0            0                         0   \n",
       "\n",
       "      productline_Galaxy_Note9  productline_Galaxy_S10  productline_Galaxy_S7  \\\n",
       "0                            0                       0                      0   \n",
       "1                            1                       0                      0   \n",
       "2                            0                       0                      0   \n",
       "3                            1                       0                      0   \n",
       "4                            0                       0                      0   \n",
       "...                        ...                     ...                    ...   \n",
       "1480                         0                       0                      1   \n",
       "1481                         0                       0                      0   \n",
       "1482                         0                       0                      0   \n",
       "1483                         0                       0                      1   \n",
       "1484                         0                       0                      1   \n",
       "\n",
       "      productline_Galaxy_S8  productline_Galaxy_S9  productline_Unknown  \\\n",
       "0                         0                      1                    0   \n",
       "1                         0                      0                    0   \n",
       "2                         0                      0                    1   \n",
       "3                         0                      0                    0   \n",
       "4                         1                      0                    0   \n",
       "...                     ...                    ...                  ...   \n",
       "1480                      0                      0                    0   \n",
       "1481                      0                      1                    0   \n",
       "1482                      0                      0                    0   \n",
       "1483                      0                      0                    0   \n",
       "1484                      0                      0                    0   \n",
       "\n",
       "      noDescription_no description  \n",
       "0                                0  \n",
       "1                                0  \n",
       "2                                1  \n",
       "3                                0  \n",
       "4                                0  \n",
       "...                            ...  \n",
       "1480                             1  \n",
       "1481                             1  \n",
       "1482                             1  \n",
       "1483                             1  \n",
       "1484                             1  \n",
       "\n",
       "[1485 rows x 21 columns]"
      ]
     },
     "execution_count": 17,
     "metadata": {},
     "output_type": "execute_result"
    }
   ],
   "source": [
    "data = pd.get_dummies(data, columns=[\"carrier\", \"color\", \"productline\", \"noDescription\"], drop_first=True)\n",
    "\n",
    "data"
   ]
  },
  {
   "cell_type": "markdown",
   "metadata": {},
   "source": [
    "### 05. Decision Tree 모델링, 예측, 평가하기, 최적의 트리 만들기 (파라미터 튜닝)"
   ]
  },
  {
   "cell_type": "code",
   "execution_count": 18,
   "metadata": {},
   "outputs": [],
   "source": [
    "from sklearn.model_selection import train_test_split\n",
    "\n",
    "X = data.drop(\"sold\", axis=1)\n",
    "y = data[\"sold\"]\n",
    "\n",
    "X_train, X_test, y_train, y_test = train_test_split(X, y, test_size=0.2, random_state=100)"
   ]
  },
  {
   "cell_type": "code",
   "execution_count": 19,
   "metadata": {},
   "outputs": [
    {
     "data": {
      "text/plain": [
       "DecisionTreeClassifier(max_depth=10)"
      ]
     },
     "execution_count": 19,
     "metadata": {},
     "output_type": "execute_result"
    }
   ],
   "source": [
    "from sklearn.tree import DecisionTreeClassifier\n",
    "\n",
    "model = DecisionTreeClassifier(max_depth=10)\n",
    "model.fit(X_train, y_train)"
   ]
  },
  {
   "cell_type": "code",
   "execution_count": 20,
   "metadata": {},
   "outputs": [],
   "source": [
    "pred = model.predict(X_test)"
   ]
  },
  {
   "cell_type": "code",
   "execution_count": 21,
   "metadata": {},
   "outputs": [
    {
     "data": {
      "text/plain": [
       "0.797979797979798"
      ]
     },
     "execution_count": 21,
     "metadata": {},
     "output_type": "execute_result"
    }
   ],
   "source": [
    "from sklearn.metrics import accuracy_score, confusion_matrix\n",
    "\n",
    "accuracy_score(y_test, pred)"
   ]
  },
  {
   "cell_type": "markdown",
   "metadata": {},
   "source": [
    "### 06. 최적의 트리 만들기 (파라미터 튜닝)"
   ]
  },
  {
   "cell_type": "code",
   "execution_count": 22,
   "metadata": {},
   "outputs": [
    {
     "name": "stdout",
     "output_type": "stream",
     "text": [
      "2 0.8182\n",
      "3 0.8215\n",
      "4 0.8215\n",
      "5 0.8182\n",
      "6 0.8081\n",
      "7 0.8047\n",
      "8 0.7946\n",
      "9 0.8047\n",
      "10 0.8013\n",
      "11 0.7677\n",
      "12 0.7609\n",
      "13 0.7542\n",
      "14 0.7609\n",
      "15 0.771\n",
      "16 0.7744\n",
      "17 0.7778\n",
      "18 0.7609\n",
      "19 0.7542\n",
      "20 0.7778\n",
      "21 0.7542\n",
      "22 0.7441\n",
      "23 0.7542\n",
      "24 0.7643\n",
      "25 0.7643\n",
      "26 0.7542\n",
      "27 0.7508\n",
      "28 0.7576\n",
      "29 0.7407\n",
      "30 0.7475\n"
     ]
    }
   ],
   "source": [
    "for i in range(2, 31):\n",
    "    model = DecisionTreeClassifier(max_depth=i)\n",
    "    model.fit(X_train, y_train)\n",
    "    pred = model.predict(X_test)\n",
    "    print(i, round(accuracy_score(y_test, pred), 4))"
   ]
  },
  {
   "cell_type": "markdown",
   "metadata": {},
   "source": [
    "- max_depth가 3에서 고점을 찍고 점점 떨어지는 것을 확인"
   ]
  },
  {
   "cell_type": "code",
   "execution_count": 23,
   "metadata": {},
   "outputs": [
    {
     "data": {
      "text/plain": [
       "0.8215488215488216"
      ]
     },
     "execution_count": 23,
     "metadata": {},
     "output_type": "execute_result"
    }
   ],
   "source": [
    "model = DecisionTreeClassifier(max_depth=3)\n",
    "model.fit(X_train, y_train)\n",
    "pred = model.predict(X_test)\n",
    "accuracy_score(y_test, pred)"
   ]
  },
  {
   "cell_type": "code",
   "execution_count": 24,
   "metadata": {},
   "outputs": [
    {
     "data": {
      "text/plain": [
       "array([[148,  13],\n",
       "       [ 40,  96]])"
      ]
     },
     "execution_count": 24,
     "metadata": {},
     "output_type": "execute_result"
    }
   ],
   "source": [
    "confusion_matrix(y_test, pred)"
   ]
  },
  {
   "cell_type": "markdown",
   "metadata": {},
   "source": [
    "### 06. Tree Plot과 함께 Decision Tree 원리 이해"
   ]
  },
  {
   "cell_type": "code",
   "execution_count": 25,
   "metadata": {},
   "outputs": [
    {
     "data": {
      "text/plain": [
       "[Text(558.0, 475.65000000000003, 'X[0] <= 0.5\\ngini = 0.497\\nsamples = 1188\\nvalue = [638, 550]'),\n",
       " Text(279.0, 339.75, 'X[1] <= 208.495\\ngini = 0.357\\nsamples = 659\\nvalue = [506, 153]'),\n",
       " Text(139.5, 203.85000000000002, 'X[17] <= 0.5\\ngini = 0.442\\nsamples = 240\\nvalue = [161, 79]'),\n",
       " Text(69.75, 67.94999999999999, 'gini = 0.43\\nsamples = 230\\nvalue = [158, 72]'),\n",
       " Text(209.25, 67.94999999999999, 'gini = 0.42\\nsamples = 10\\nvalue = [3, 7]'),\n",
       " Text(418.5, 203.85000000000002, 'X[3] <= 5.5\\ngini = 0.291\\nsamples = 419\\nvalue = [345, 74]'),\n",
       " Text(348.75, 67.94999999999999, 'gini = 0.319\\nsamples = 367\\nvalue = [294, 73]'),\n",
       " Text(488.25, 67.94999999999999, 'gini = 0.038\\nsamples = 52\\nvalue = [51, 1]'),\n",
       " Text(837.0, 339.75, 'X[1] <= 142.475\\ngini = 0.375\\nsamples = 529\\nvalue = [132, 397]'),\n",
       " Text(697.5, 203.85000000000002, 'X[1] <= 59.995\\ngini = 0.216\\nsamples = 332\\nvalue = [41, 291]'),\n",
       " Text(627.75, 67.94999999999999, 'gini = 0.108\\nsamples = 210\\nvalue = [12, 198]'),\n",
       " Text(767.25, 67.94999999999999, 'gini = 0.362\\nsamples = 122\\nvalue = [29, 93]'),\n",
       " Text(976.5, 203.85000000000002, 'X[1] <= 205.0\\ngini = 0.497\\nsamples = 197\\nvalue = [91, 106]'),\n",
       " Text(906.75, 67.94999999999999, 'gini = 0.452\\nsamples = 81\\nvalue = [28, 53]'),\n",
       " Text(1046.25, 67.94999999999999, 'gini = 0.496\\nsamples = 116\\nvalue = [63, 53]')]"
      ]
     },
     "execution_count": 25,
     "metadata": {},
     "output_type": "execute_result"
    },
    {
     "data": {
      "image/png": "[encoded data removed]",
      "text/plain": [
       "<Figure size 1440x720 with 1 Axes>"
      ]
     },
     "metadata": {
      "needs_background": "light"
     },
     "output_type": "display_data"
    }
   ],
   "source": [
    "from sklearn.tree import plot_tree\n",
    "\n",
    "plt.figure(figsize=(20, 10))\n",
    "plot_tree(model)"
   ]
  },
  {
   "cell_type": "markdown",
   "metadata": {},
   "source": [
    "- Decision Tree는 여려 변수 중 가장 중요하다고 생각하는 변수와 특정 기준점을 잡아 Yes or No로 나누는 것\n",
    "- 가장 아래에 위차한 노드들은 0 또는 1에 치우치도록 분류가 됨\n",
    "- 각 노드 첫 줄에서 볼 수 있는 X[n]은 n번째 독립변수를 뜻하며, 해당 부등식을 기준으로 Yes or No를 나눔\n",
    "- X[n]에 들어가는 변수는 다음 노드에서도 반복하여 등장할 수 있음\n",
    "- gini는 그 안에 있는 데이터가 얼마나 편향적으로 구성되어있는지, 즉 얼마나 깨끗하게 분류되어 있는지를 나타냄\n",
    "- gini는 0 이상 0.5 이하의 값을 가지며, 0.5일 때 반반으로 구성되어 있음을 의미하므로 0일때 가장 깨끗하게 분류된 것\n",
    "- 한 노드의 gini가 0이 되도록 만들면, 해당 노드는 분류를 멈추고 나머지 노드만 계속 진행 "
   ]
  },
  {
   "cell_type": "code",
   "execution_count": 26,
   "metadata": {},
   "outputs": [
    {
     "data": {
      "text/plain": [
       "[Text(558.0, 475.65000000000003, 'BuyItNow <= 0.5\\n0.497\\n1188\\n[638, 550]'),\n",
       " Text(279.0, 339.75, 'startprice <= 208.495\\n0.357\\n659\\n[506, 153]'),\n",
       " Text(139.5, 203.85000000000002, 'productline_Galaxy_S9 <= 0.5\\n0.442\\n240\\n[161, 79]'),\n",
       " Text(69.75, 67.94999999999999, '\\n  (...)  \\n'),\n",
       " Text(209.25, 67.94999999999999, '\\n  (...)  \\n'),\n",
       " Text(418.5, 203.85000000000002, 'upperCaseDescription <= 5.5\\n0.291\\n419\\n[345, 74]'),\n",
       " Text(348.75, 67.94999999999999, '\\n  (...)  \\n'),\n",
       " Text(488.25, 67.94999999999999, '\\n  (...)  \\n'),\n",
       " Text(837.0, 339.75, 'startprice <= 142.475\\n0.375\\n529\\n[132, 397]'),\n",
       " Text(697.5, 203.85000000000002, 'startprice <= 59.995\\n0.216\\n332\\n[41, 291]'),\n",
       " Text(627.75, 67.94999999999999, '\\n  (...)  \\n'),\n",
       " Text(767.25, 67.94999999999999, '\\n  (...)  \\n'),\n",
       " Text(976.5, 203.85000000000002, 'startprice <= 205.0\\n0.497\\n197\\n[91, 106]'),\n",
       " Text(906.75, 67.94999999999999, '\\n  (...)  \\n'),\n",
       " Text(1046.25, 67.94999999999999, '\\n  (...)  \\n')]"
      ]
     },
     "execution_count": 26,
     "metadata": {},
     "output_type": "execute_result"
    },
    {
     "data": {
      "image/png": "[encoded data removed]",
      "text/plain": [
       "<Figure size 1440x720 with 1 Axes>"
      ]
     },
     "metadata": {
      "needs_background": "light"
     },
     "output_type": "display_data"
    }
   ],
   "source": [
    "plt.figure(figsize=(20, 10))\n",
    "plot_tree(model, feature_names=X_train.columns, fontsize=15, label=None, max_depth=2)"
   ]
  },
  {
   "cell_type": "markdown",
   "metadata": {},
   "source": [
    "### 07. Decision Tree vs Logistic Regression\n",
    "- Non Parametric vs Parametric (Parametric이란 어떠한 특성을 전제로 하는 것, Logistic은 X와 y가 어느정도 선형관계임을 전제)\n",
    "- Feature Power X vs Feature Power O (Decision Tree도 Feature Importance를 보여주긴 하나, Logistic의 coef처럼 디테일한 정보는 아님)\n",
    "- Categorical Value O vs Categorical Value X (Decision Tree는 카테고리 변수도 받을 수 있으나, 다른 알고리즘에서 못받는 경우가 많아 습관적으로 선처리하는 것이 좋음)"
   ]
  }
 ],
 "metadata": {
  "interpreter": {
   "hash": "6b86bfaaf4b89e3371622a96b67eef1ee20bc84dfadb3867acb5f2dc38f257d7"
  },
  "kernelspec": {
   "display_name": "Python 3.9.7 64-bit ('base': conda)",
   "language": "python",
   "name": "python3"
  },
  "language_info": {
   "codemirror_mode": {
    "name": "ipython",
    "version": 3
   },
   "file_extension": ".py",
   "mimetype": "text/x-python",
   "name": "python",
   "nbconvert_exporter": "python",
   "pygments_lexer": "ipython3",
   "version": "3.9.7"
  },
  "orig_nbformat": 4
 },
 "nbformat": 4,
 "nbformat_minor": 2
}
