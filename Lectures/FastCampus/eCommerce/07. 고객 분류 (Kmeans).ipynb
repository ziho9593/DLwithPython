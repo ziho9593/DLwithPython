{
 "cells": [
  {
   "cell_type": "markdown",
   "metadata": {},
   "source": [
    "## Chapter 07. 고객 분류 (Kmeans)\n",
    "\n",
    "### 01. 분석의 목적\n",
    "- Kmeans Clustering을 활용하여, 데이터 기반의 고객 Segment 분류\n",
    "\n",
    "### 02. Supervised Learning & Unsupervised Learning"
   ]
  }
 ],
 "metadata": {
  "interpreter": {
   "hash": "6b86bfaaf4b89e3371622a96b67eef1ee20bc84dfadb3867acb5f2dc38f257d7"
  },
  "kernelspec": {
   "display_name": "Python 3.9.7 ('base')",
   "language": "python",
   "name": "python3"
  },
  "language_info": {
   "name": "python",
   "version": "3.9.7"
  },
  "orig_nbformat": 4
 },
 "nbformat": 4,
 "nbformat_minor": 2
}
