{
 "cells": [
  {
   "attachments": {},
   "cell_type": "markdown",
   "metadata": {},
   "source": [
    "# Chapter 01. OpenCV-Python 시작하기"
   ]
  },
  {
   "attachments": {},
   "cell_type": "markdown",
   "metadata": {},
   "source": [
    "## 01. 컴퓨터 비전 소개\n",
    "### 컴퓨터 비전 (Computer Vision)\n",
    "- 컴퓨터를 이용하여 정지 영상 또는 동영상으로부터 의미 있는 정보를 추출하는 방법을 연구하는 학문\n",
    "- 즉, 사람이 눈으로 사물을 보고 인지하는 작업을 컴퓨터가 수행하게끔 만드는 학문\n",
    "\n",
    "### 컴퓨터 비전 연구 분야\n",
    "- 영상의 화질 개선: Filtering App, HDR, Image Noise Reduction, Super Resolution\n",
    "- 객체 검출(Object detection)과 영상 분할\n",
    "- 인식(Recognition)\n",
    "\n",
    "### 컴퓨터 비전 응용 분야\n",
    "- 머신 비전(Machine Vision)\n",
    "    - 공장 자동화: 제품의 불량 검사, 위치 확인, 측정 등\n",
    "    - 높은 정확도와 빠른 처리 시간 요구\n",
    "    - 조명, 렌즈, 필터, 실시간 (Real-time) 처리\n",
    "- 인공지능 서비스\n",
    "    - 입력 영상을 객체와 배경으로 분할 → 객체와 배경 인식 → 상황 인식 → 로봇과 자동차의 행동 지시\n",
    "    - Computer Vision + Sensor Fusion + Deep Learning\n",
    "    - 인공지능 로봇, Amazon Go, 구글/테슬라의 자율 주행 자동차 등"
   ]
  },
  {
   "attachments": {},
   "cell_type": "markdown",
   "metadata": {},
   "source": [
    "## 02. 영상의 구조와 표현\n",
    "\n",
    "### 영상의 표현 방법\n",
    "- 영상(Image)?\n",
    "    - 픽셀(Pixel)이 바둑판 모양의 격자에 나열되어 있는 형태 (2차원 행렬)\n",
    "    - 픽셀: 영상의 기본 단위, Picture element, 화소(畵素)\n",
    "- **그레이스케일(Grayscale) 영상**\n",
    "    - 흑백 사진처럼 색상 정보가 없이 오직 밝기 정보만으로 구성된 영상\n",
    "    - 밝기 정보를 256 단계로 표현\n",
    "- **트루컬러(Truecolor) 영상**\n",
    "    - 컬러 사진처럼 색상 정보를 가지고 있어서 다양한 색상을 표현할 수 있는 영상\n",
    "    - Red, Green, Blue 색 성분을 256 단계로 표현 → 256<sup>3</sup> = 16,777,216 색상 표현 가능\n",
    "- 그레이스케일 영상의 픽셀 값 표현\n",
    "    - 밝기 성분을 ***0 ~ 255*** 범위의 정수로 표현\n",
    "    - 프로그래밍 언어에서 표현 방법: ***1Byte*** 사용\n",
    "        - C/C++ → ***unsigned char***\n",
    "        - Python → ***numpy.uint8***\n",
    "- 컬러 영상의 픽셀 값 표현\n",
    "    - R, G, B 색 성분의 크기를 각각 ***0 ~ 255*** 범위의 정수로 표현\n",
    "        - 0  : 해당 색 성분이 전혀 없는 상태\n",
    "        - 255:  해당 색 성분이 가득 있는 상태\n",
    "    - 프로그래밍 언어에서 표현 방법: 3Bytes 사용\n",
    "        - C/C++ → ***구조체, 클래스***\n",
    "        - Python → ***튜플, numpy.ndarray***\n",
    "- 영상에서 주로 사용되는 좌표계\n",
    "    - ***w × h*** 영상 (w-by-h image)\n",
    "    - ***M × N 행렬*** (m-by-n matrix)\n",
    "\n",
    "### 영상 데이터 크기 분석\n",
    "- 그레이스케일 영상: ***(가로 크기) × (세로 크기)*** Bytes\n",
    "- 트루컬러 영상: ***(가로 크기) × (세로 크기) × 3*** Bytes\n",
    "\n",
    "### 영상 파일 형식 특징\n",
    "- BMP\n",
    "    - 픽셀 데이터를 압축하지 않고 그대로 저장 → 파일 용량이 큰 편\n",
    "    - 파일 구조가 단순해서 별도의 라이브러리 도움 없이 파일 입출력 프로그래밍 가능\n",
    "- JPG\n",
    "    - 주로 사진과 같은 컬러 영상을 저장\n",
    "    - 손실 압축(Lossy compression)\n",
    "    - 압축률이 좋아서 파일 용량이 크게 감소 → 디지털 카메라 사진 포맷으로 주로 사용\n",
    "- GIF \n",
    "    - 256 색상 이하의 영상을 저장 → 일반 사진을 저장 시 화질 열화가 심함\n",
    "    - 무손실 압축(Lossless compression)\n",
    "    - 움직이는 GIF 지원\n",
    "- PNG \n",
    "    - Portable Network Graphics\n",
    "    - 무손실 압축 (컬러 영상도 무손실 압축)\n",
    "    - 알파 채널(투명도)을 지원"
   ]
  },
  {
   "attachments": {},
   "cell_type": "markdown",
   "metadata": {},
   "source": [
    "## 03. OpenCV 소개\n",
    "\n",
    "### OpenCV 개요\n",
    "- What is OpenCV?\n",
    "    - Open source\n",
    "    - Computer Vision & Machine Learning\n",
    "    - Software library\n",
    "- Why OpenCV?\n",
    "    - BSD/Apache 2 license … **Free for academic & Commercial use**\n",
    "    - Multiple interface … **C**, **C++**, Python, Java, JavaScript, MATLAB, etc.\n",
    "    - Multiple platform … Windows, Linux, Mac OS, iOS, Android\n",
    "    - Optimized … **CPU instructions, Multi-core processing, OpenCL, CUDA**\n",
    "    - Popular … More than 18 million downloads\n",
    "    - Usage ... Stitching streetview images, detecting intrusions, monitoring mine equipment, helping robots navigate and pick up objects, Interactive art, etc. \n",
    "\n",
    "### OpenCV 구성\n",
    "- OpenCV main modules\n",
    "    - Core, widely used, infrastructures\n",
    "    - https://github.com/opencv/opencv\n",
    "    > calib3d, core, dnn, features2d, flann, gapi, highgui, imgcodecs, imgproc, java, js, ml, objdetect, photo, python, stitching, ts, video, videoio, world\n",
    "- OpenCV extra modules\n",
    "    - Brand new, unpopular, non-free, HW dependency, etc.\n",
    "    - https://github.com/opencv/opencv_contrib/\n",
    "    > aruco, bgsegm, bioinspired, ccalib, cnn_3dobj, cudaarithm, cudabgsegm, … , cudawarping, cudev, cvv, datasets, dnns_easily_fooled, dnn_objdetect, dpm, face, freetype, fuzzy, hdf, hfs, img_hash, line_descriptor, matlab, optflow, ovis, phase_unwrapping, plot, reg, rgbd, saliency, sfm, shape, stereo, structured_light, superres, surface_matching, text, tracking, videostab, viz, xfeatures2d, ximgproc, xobjdetect, xphoto\n",
    "\n",
    "### OpenCV 관련 사이트\n",
    "- http://opencv.org/\n",
    "- http://docs.opencv.org/master/\n",
    "- http://answers.opencv.org/questions/\n",
    "- https://github.com/opencv/opencv/\n",
    "- https://github.com/opencv/opencv_contrib/\n",
    "- https://www.facebook.com/groups/opencvprogramming"
   ]
  },
  {
   "attachments": {},
   "cell_type": "markdown",
   "metadata": {},
   "source": [
    "## 04. 영상 파일 불러와서 출력하기"
   ]
  },
  {
   "cell_type": "code",
   "execution_count": null,
   "metadata": {},
   "outputs": [],
   "source": [
    "# %pip install opencv-python"
   ]
  },
  {
   "cell_type": "code",
   "execution_count": null,
   "metadata": {},
   "outputs": [],
   "source": [
    "import cv2\n",
    "\n",
    "print('Hello, OpenCV', cv2.__version__)"
   ]
  },
  {
   "cell_type": "code",
   "execution_count": null,
   "metadata": {},
   "outputs": [],
   "source": [
    "import sys\n",
    "\n",
    "img = cv2.imread('./data/images/cat.bmp')\n",
    "\n",
    "# 영상 파일 불러오기가 실패하면 에러 메시지를 출력하고 종료.\n",
    "if img is None:\n",
    "    print('Image load failed!')\n",
    "    sys.exit()\n",
    "\n",
    "cv2.namedWindow('image') # 'image'라는 이름의 새 창을 만들고,\n",
    "cv2.imshow('image', img) # 만든 창에 img 영상을 출력한 후,\n",
    "cv2.waitKey()            # 해당 창에 키보드 입력이 있을 때까지 대기.\n",
    "\n",
    "cv2.destroyAllWindows()  # 생성된 모든 창을 닫음."
   ]
  },
  {
   "attachments": {},
   "cell_type": "markdown",
   "metadata": {},
   "source": [
    "## 05. OpenCV 주요 함수 설명\n",
    "\n",
    "### OpenCV API 도움말 찾기\n",
    "- OpenCV 최신 도움말: http://docs.opencv.org/master/\n",
    "- OpenCV 도움말 사이트에서 우측 상단 검색창 활용"
   ]
  },
  {
   "attachments": {},
   "cell_type": "markdown",
   "metadata": {},
   "source": [
    "### OpenCV API\n",
    "- 영상 파일 불러오기\n",
    "\n",
    "    ```py\n",
    "    cv2.imread(filename, flags=None) -> retval\n",
    "    ```\n",
    "    - filename: 불러올 영상 파일 이름 (문자열)\n",
    "    - flags: 영상 파일 불러오기 옵션 플래그\n",
    "        - cv2.IMREAD_COLOR: BGR 컬러 영상으로 읽기 (기본값), **shape = (rows, cols, 3)**\n",
    "        - cv2.IMREAD_GRAYSCALE: 그레이스케일 영상으로 읽기 **shape = (rows, cols)**\n",
    "        - cv2.IMREAD_UNCHANGED: 영상 파일 속성 그대로 읽기, e.g. 투명한 PNG 파일, **shape = (rows, cols, 4)**\n",
    "    - retval: 불러온 영상 데이터 (**numpy.ndarray**)"
   ]
  },
  {
   "attachments": {},
   "cell_type": "markdown",
   "metadata": {},
   "source": [
    "- 영상 파일 저장하기\n",
    "\n",
    "    ```py\n",
    "    cv2.imwrite(filename, img, params=None) -> retval\n",
    "    ```\n",
    "    - filename: 저장할 영상 파일 이름 (문자열)\n",
    "    - img: 저장할 영상 데이터 (**numpy.ndarray**)\n",
    "    - params: 파일 저장 옵션 지정 (속성 & 값의 정수 쌍), e.g. [cv2.IMWRITE_JPEG_QUALITY, 90] : JPG 파일 압축률을 90%로 지정\n",
    "    - retval: 정상적으로 저장하면 True, 실패하면 False"
   ]
  },
  {
   "attachments": {},
   "cell_type": "markdown",
   "metadata": {},
   "source": [
    "- 새 창 띄우기\n",
    "\n",
    "    ```py\n",
    "    cv2.namedWindow(winname, flags=None) -> None\n",
    "    ```\n",
    "    - winname: 창 고유 이름 (문자열)\n",
    "    - flags: 창 속성 지정 플래그\n",
    "        - cv2.WINDOW_NORMAL: 영상 크기를 창 크기에 맞게 지정\n",
    "        - cv2.WINDOW_AUTOSIZE: 창 크기를 영상 크기에 맞게 변경 (기본값)\n"
   ]
  },
  {
   "attachments": {},
   "cell_type": "markdown",
   "metadata": {},
   "source": [
    "- 창 닫기\n",
    "\n",
    "    ```py\n",
    "    cv2.destroyWindow(winname) -> None\n",
    "    cv2.destroyAllWindows() -> None\n",
    "    ```\n",
    "    - winname: 닫고자 하는 창 이름\n",
    "    - 참고 사항\n",
    "        - cv2.destroyWindow() 함수는 지정한 창 하나만 닫고, cv2.destroyAllWindows() 함수는 열려 있는 모든 창을 닫음\n",
    "        - 일반적인 경우 프로그램 종료 시 운영 체제에 의해 열려 있는 모든 창이 자동으로 닫힘"
   ]
  },
  {
   "attachments": {},
   "cell_type": "markdown",
   "metadata": {},
   "source": [
    "- 창 위치 이동\n",
    "\n",
    "    ```py\n",
    "    cv2.moveWindow(winname, x, y) -> None\n",
    "    ```\n",
    "    - winname: 창 이름\n",
    "    - x, y: 이동할 위치 좌표"
   ]
  },
  {
   "attachments": {},
   "cell_type": "markdown",
   "metadata": {},
   "source": [
    "- 창 크기 변경\n",
    "\n",
    "    ```py\n",
    "    cv2.resizeWindow(winname, width, height) -> None\n",
    "    ```\n",
    "    - winname: 창 이름\n",
    "    - width: 변경할 창의 가로 크기\n",
    "    - height: 변경할 창의 세로 크기\n",
    "    - 참고 사항\n",
    "        - 창 생성 시 cv2.WINDOW_NORMAL 속성으로 생성되어야 동작\n",
    "        - 영상 출력 부분의 크기만을 고려함 (제목 표시줄, 창 경계는 고려되지 않음)"
   ]
  },
  {
   "attachments": {},
   "cell_type": "markdown",
   "metadata": {},
   "source": [
    "- 영상 출력하기\n",
    "\n",
    "    ```py\n",
    "    cv2.imshow(winname, mat) -> None\n",
    "    ```\n",
    "    - winname: 영상을 출력할 대상 창 이름\n",
    "    - mat: 출력할 영상 데이터 (**numpy.ndarray**)\n",
    "    - 참고 사항\n",
    "        - uint16, int32 자료형 행렬의 경우, 행렬 원소 값을 255로 나눠서 출력\n",
    "        - float32, float64 자료형 행렬의 경우, 행렬 원소 값에 255를 곱해서 출력\n",
    "        - 만약 winname에 해당하는 창이 없으면 창을 새로 만들어서 영상을 출력함\n",
    "        - Windows 운영체제에서는 Ctrl + C (복사), Ctrl + S (저장) 지원\n",
    "        - 실제로는 cv2.waitKey() 함수를 호출해야 화면에 영상이 나타남"
   ]
  },
  {
   "attachments": {},
   "cell_type": "markdown",
   "metadata": {},
   "source": [
    "- 키보드 입력 대기\n",
    "\n",
    "    ```py\n",
    "    cv2.waitKey(delay=None) -> retval\n",
    "    ```\n",
    "    - delay: 밀리초 단위 대기 시간. delay ≤ 0 이면 무한히 기다림. 기본값은 0\n",
    "    - retval: 눌린 키 값(ASCII code). 키가 눌리지 않으면 -1\n",
    "    - 참고 사항\n",
    "        - cv2.waitKey() 함수는 OpenCV 창이 하나라도 있을 때 동작함\n",
    "        - 특정 키 입력을 확인하려면 ord() 함수를 이용\n",
    "        \n",
    "            ```py\n",
    "            while True:\n",
    "                if cv2.waitKey() == ord('q'):\n",
    "                break\n",
    "            ```\n",
    "        - 주요 특수키 코드: 27(ESC), 13(ENTER), 9(TAB)"
   ]
  },
  {
   "attachments": {},
   "cell_type": "markdown",
   "metadata": {},
   "source": [
    "## 06. Matplotlib 사용하여 영상 출력하기\n",
    "\n",
    "### Matplotlib을 이용한 영상 출력\n",
    "- Matplotlib 라이브러리\n",
    "    - 함수 그래프, 차트(chart), 히스토그램(histogram) 등의 다양한 그리기 기능을 제공하는 Python 패키지\n",
    "- 컬러 영상 출력\n",
    "    - 컬러 영상의 색상 정보가 **RGB 순서**이어야 함\n",
    "    - cv2.imread() 함수로 불러온 영상의 색상 정보는 BGR 순서이므로 이를 RGB 순서로 변경해야 함 → **cv2.cvtColor()** 함수 이용\n",
    "- 그레이스케일 영상 출력\n",
    "    - plt.imshow() 함수에서 컬러맵을 **cmap='gray'** 으로 지정"
   ]
  },
  {
   "attachments": {},
   "cell_type": "markdown",
   "metadata": {},
   "source": [
    "### 영상 출력하기"
   ]
  },
  {
   "cell_type": "code",
   "execution_count": null,
   "metadata": {},
   "outputs": [],
   "source": [
    "import matplotlib.pyplot as plt\n",
    "import cv2\n",
    "\n",
    "# 컬러 영상 출력\n",
    "imgBGR = cv2.imread('./data/images/cat.bmp')\n",
    "imgRGB = cv2.cvtColor(imgBGR, cv2.COLOR_BGR2RGB)\n",
    "\n",
    "plt.axis('off')\n",
    "plt.imshow(imgRGB)\n",
    "plt.show()\n",
    "\n",
    "# 그레이스케일 영상 출력\n",
    "imgGray = cv2.imread('./data/images/cat.bmp', cv2.IMREAD_GRAYSCALE)\n",
    "\n",
    "plt.axis('off')\n",
    "plt.imshow(imgGray, cmap='gray')\n",
    "plt.show()"
   ]
  },
  {
   "attachments": {},
   "cell_type": "markdown",
   "metadata": {},
   "source": [
    "### 창 하나에 여러 개의 이미지 출력하기"
   ]
  },
  {
   "cell_type": "code",
   "execution_count": null,
   "metadata": {},
   "outputs": [],
   "source": [
    "# 컬러 영상 & 그레이스케일 영상 불러오기\n",
    "imgBGR = cv2.imread('./data/images/cat.bmp')\n",
    "imgRGB = cv2.cvtColor(imgBGR, cv2.COLOR_BGR2RGB)\n",
    "imgGray = cv2.imread('./data/images/cat.bmp', cv2.IMREAD_GRAYSCALE)\n",
    "\n",
    "# 두 개의 영상을 함께 출력\n",
    "plt.subplot(121), plt.axis('off'), plt.imshow(imgRGB)\n",
    "plt.subplot(122), plt.axis('off'), plt.imshow(imgGray, cmap='gray')\n",
    "plt.show()"
   ]
  },
  {
   "attachments": {},
   "cell_type": "markdown",
   "metadata": {},
   "source": [
    "## 07. [실전 코딩] 이미지 슬라이드쇼\n",
    "- 이미지 슬라이드쇼\n",
    "    - 특정 폴더에 있는 모든 이미지 파일을 이용하여 슬라이드쇼를 수행\n",
    "- 구현 할 기능\n",
    "    - 특정 폴더에 있는 이미지 파일 목록 읽기\n",
    "    - 이미지를 전체 화면으로 출력하기\n",
    "    - 일정 시간동안 이미지를 화면에 출력하고, 다음 이미지로 교체하기 (무한루프)"
   ]
  },
  {
   "attachments": {},
   "cell_type": "markdown",
   "metadata": {},
   "source": [
    "### 특정 폴더에 있는 이미지 파일(*.jpg) 목록 읽기"
   ]
  },
  {
   "attachments": {},
   "cell_type": "markdown",
   "metadata": {},
   "source": [
    "- 방법 1: os.listdir()"
   ]
  },
  {
   "cell_type": "code",
   "execution_count": null,
   "metadata": {},
   "outputs": [],
   "source": [
    "import os\n",
    "\n",
    "file_list = os.listdir('./data/images')\n",
    "img_files = [os.path.join('./data/images', file) \n",
    "             for file in file_list if file.endswith('.jpg')]\n",
    "\n",
    "for f in img_files:\n",
    "    print(f)"
   ]
  },
  {
   "attachments": {},
   "cell_type": "markdown",
   "metadata": {},
   "source": [
    "- 방법 2: glob.glob()"
   ]
  },
  {
   "cell_type": "code",
   "execution_count": null,
   "metadata": {},
   "outputs": [],
   "source": [
    "import glob\n",
    "\n",
    "img_files = glob.glob('./data/images/*.jpg')\n",
    "\n",
    "for f in img_files:\n",
    "    print(f)"
   ]
  },
  {
   "attachments": {},
   "cell_type": "markdown",
   "metadata": {},
   "source": [
    "### 전체 화면 영상 출력 창 만들기\n",
    "- 먼저 cv2.WINDOW_NORMAL 속성의 창을 만든 후, cv2.setWindowProperty() 함수를 사용하여 전체 화면 속성으로 변경"
   ]
  },
  {
   "cell_type": "code",
   "execution_count": null,
   "metadata": {},
   "outputs": [],
   "source": [
    "import cv2\n",
    "\n",
    "cv2.namedWindow('image', cv2.WINDOW_NORMAL)\n",
    "cv2.setWindowProperty('image', cv2.WND_PROP_FULLSCREEN, cv2.WINDOW_FULLSCREEN)"
   ]
  },
  {
   "attachments": {},
   "cell_type": "markdown",
   "metadata": {},
   "source": [
    "### 불러온 영상을 반복적으로 출력하기"
   ]
  },
  {
   "cell_type": "code",
   "execution_count": null,
   "metadata": {},
   "outputs": [],
   "source": [
    "cnt = len(img_files)\n",
    "idx = 0\n",
    "\n",
    "while True:\n",
    "    img = cv2.imread(img_files[idx])\n",
    "\n",
    "    if img is None: \n",
    "        print('Image load failed!')\n",
    "        break\n",
    "    \n",
    "    cv2.imshow('image', img)\n",
    "    if cv2.waitKey(1000) >= 0 :\n",
    "        break\n",
    "\n",
    "    idx += 1\n",
    "    if idx >= cnt:\n",
    "        idx = 0\n",
    "\n",
    "cv2.destroyAllWindows()"
   ]
  }
 ],
 "metadata": {
  "kernelspec": {
   "display_name": "base",
   "language": "python",
   "name": "python3"
  },
  "language_info": {
   "codemirror_mode": {
    "name": "ipython",
    "version": 3
   },
   "file_extension": ".py",
   "mimetype": "text/x-python",
   "name": "python",
   "nbconvert_exporter": "python",
   "pygments_lexer": "ipython3",
   "version": "3.9.13"
  },
  "orig_nbformat": 4
 },
 "nbformat": 4,
 "nbformat_minor": 2
}
