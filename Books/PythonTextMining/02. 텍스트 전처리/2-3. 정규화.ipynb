{
 "cells": [
  {
   "cell_type": "markdown",
   "metadata": {},
   "source": [
    "## 2-3. 정규화 (Normalization)\n",
    "정규화는 '같은 의미를 가진 동일한 단어이면서 다른 형태로 쓰여진 단어들을 통일하여 표준 단어로 만드는 작업'을 말한다. 예를 들어, go가 3인칭 단수와 쓰일 때는 goes가 되는데 필요에 따라 go와 goes를 같은 단어로 취급해야 할 때가 있다. 이와 같이 다양한 변형을 원형의 형태로 통일하는 작업을 정규화라고 한다. 정규화는 방법에 따라 어간 추출과 표제어 추출로 나뉜다.\n",
    "\n",
    "### 어간 추출 (Stemming)\n",
    "어간 추출은 '어형이 변형된 단어로부터 접사 등을 제겋고 그 단어의 어간을 분리해내는 작업'을 말한다. 그러나 보통 우리는 어형, 접사, 어간 등의 언어학에 관련한 단어들에 익숙하지 않아 이를 이해하기 쉽지 않다. 언어학과 관련된 단어들은 서로 설명이 얽혀 있어서 한 번에 하나씩 이해하는 것도 쉽지가 않다.\n",
    "\n",
    "*어형*은 단어의 형태, *어간(stem)*은 어형변화에서 변화하지 않는 부분을 말한다. 다른 말로 어간은 용언의 바귀지 않는 부분, 어미는 바뀌는 부분이다. *용언*은 문장 안에서 서술하는 구실을 하는 동사와 형용사를 말한다. 예를 들어 우리말에서 명사는 형태가 바뀌는 경우가 잘 없으나, 동사와 형용사는 시간 혹은 다른 이유로 모양이 바뀌게 된다. '간다', '갔다'는 시간에 따라 바뀐 예이고, '작다', '작고', '작으니'는 시간 외 다른 이유로 바뀐 예다. 바뀌지 않는 '가', '작'과 같은 부분을 어간이라고 하며, 그 외 나머지 바뀌는 부분을 어미라고 한다.\n",
    "\n",
    "정리하면 동사와 형용사가 서술의 시제나 묘사 의도에 따라 다양하게 변화할 때 변하지 않는 부분을 *어간*이라고 하며, *어간추출*은 그러한 어간을 분리하는 작업이다.\n",
    "\n",
    "*어형변화*는 어떤 단어가 동일한 어간을 가지고 동일 품사를 유지하며 그 어미를 여러 가지로 변화시켜 그에 따라 문법적 기능도 변화하는 현상을 말한다. 어형변화는 시간의 경과와 함께 단어의 형태가 변하는 '통시적 어형변화'와 음소적 배합관계나 활용을 비롯한 문법적 현상에 따른 '공시적 어형변화'가 있다. 앞선 예시에서 '간다', '갔다'는 통시적 어형변화, 작다', '작고', '작으니'는 공시적 어형변화를 말한다.\n",
    "\n",
    "영어와 우리말은 원리와 구조가 다르므로 어간 추출도 달라질 수 밖에 없다. 영어의 경우 명사의 복수형을 단수형으로 바꾸는 작업도 어간 추출에 포함된다. 영어에 대한 어간 추출 알고리즘은 포터 스테머(Porter Stemmer), 랭카스터 스테머(Lancaster Stemmer) 등이 있다.\n",
    "\n",
    "*포터 스테머*는 마틴 포터가 작성한 스테밍 알고리즘으로, 영어 분야에서는 사실상 표준이 됐다. 아래 예시는 NLTK의 포터 스테머를 사용해 어간 추출을 하는 예다."
   ]
  },
  {
   "cell_type": "code",
   "execution_count": 1,
   "metadata": {},
   "outputs": [
    {
     "name": "stdout",
     "output_type": "stream",
     "text": [
      "cook cookeri cookbook\n"
     ]
    }
   ],
   "source": [
    "from nltk.stem import PorterStemmer\n",
    "\n",
    "stemmer = PorterStemmer()\n",
    "\n",
    "print(stemmer.stem('cooking'), stemmer.stem('cookery'), stemmer.stem('cookbooks'))"
   ]
  },
  {
   "cell_type": "markdown",
   "metadata": {},
   "source": [
    "위 예시를 보면 cookery의 어간으로 cookeri를 제시하는데, 이는 뒤의 y를 i로 대체하는 규칙에 따라 생성된 것으로 사전에 있는 단어는 아니다. 이처럼 스테머 알고리즘은 단어가 변형되는 규칙을 이용하여 원형을 찾으므로, 그 결과가 항상 사전에 있는 단어가 되지는 않는다. 중요한 것은 '포터 스테머를 쓰면 모든 단어가 같은 규칙에 따라 변환된다'는 것으로, 변환된 단어가 올바른 단어가 아니더라도 동일한 형태로 변환됐으므로 분석의 의도를 충족시킬 수 있다. 처음 스테머를 사용하면 예상하지 않은 결과가 나오는 것에 당황할 수 있으나, 최종 단계까지의 과정과 원리를 이해하면 왜 이렇게 해도 되는지를 알게 된다.\n",
    "\n",
    "아래는 토큰화와 결합해 어간 추츨을 하는 예시다."
   ]
  },
  {
   "cell_type": "code",
   "execution_count": 2,
   "metadata": {},
   "outputs": [
    {
     "name": "stdout",
     "output_type": "stream",
     "text": [
      "['Hello', 'everyone', '.', 'It', \"'s\", 'good', 'to', 'see', 'you', '.', 'Let', \"'s\", 'start', 'our', 'text', 'mining', 'class', '!']\n"
     ]
    }
   ],
   "source": [
    "from nltk.tokenize import word_tokenize\n",
    "\n",
    "para = \"Hello everyone. It's good to see you. Let's start our text mining class!\"\n",
    "tokens = word_tokenize(para) # 토큰화 실행\n",
    "print(tokens)"
   ]
  },
  {
   "cell_type": "code",
   "execution_count": 3,
   "metadata": {},
   "outputs": [
    {
     "name": "stdout",
     "output_type": "stream",
     "text": [
      "['hello', 'everyon', '.', 'it', \"'s\", 'good', 'to', 'see', 'you', '.', 'let', \"'s\", 'start', 'our', 'text', 'mine', 'class', '!']\n"
     ]
    }
   ],
   "source": [
    "result = [stemmer.stem(token) for token in tokens]\n",
    "print(result)"
   ]
  },
  {
   "cell_type": "markdown",
   "metadata": {},
   "source": [
    "위 결과를 보면 everyone은 everyon이 되고 mining은 mine이 되는 등 각 단어들에 대해 어떻게 어간추출이 됐는지 확인할 수 있다.\n",
    "\n",
    "*랭카스터 스테머*는 포터 스테머와는 다른 알고리즘을 사용하므로 결과도 조금씩 다르다. 분석의 목적이나 대상에 따라 더 좋은 성능을 보이는 스테머가 달라질 수 있기 때문에, 어떤 스테머를 선택할지는 둘 다 수행해서 최종결과를 비교해 결정할 수 있다.\n",
    "\n",
    "아래 예시는 랭카스터 스테머의 결과를 보여주는데, cooking과 cookbooks에 대한 처리는 동일하지만 cookery에 대한 결과는 다른 것을 볼 수 있다."
   ]
  },
  {
   "cell_type": "code",
   "execution_count": 4,
   "metadata": {},
   "outputs": [
    {
     "name": "stdout",
     "output_type": "stream",
     "text": [
      "cook cookery cookbook\n"
     ]
    }
   ],
   "source": [
    "from nltk.stem import LancasterStemmer\n",
    "\n",
    "stemmer = LancasterStemmer()\n",
    "\n",
    "print(stemmer.stem('cooking'), stemmer.stem('cookery'), stemmer.stem('cookbooks'))"
   ]
  },
  {
   "cell_type": "markdown",
   "metadata": {},
   "source": [
    "### 표제어 추출 (Lemmatization)\n",
    "\n",
    "*표제어 추출*은 lemma로 변환한다는 뜻인데, 'lemma'는 우리말로 '단어의 기본형'으로 번역된다. 즉, 표제어 추출은 '주어진 단어를 기본형으로 변환하는 것'을 의미한다.\n",
    "\n",
    "어간 추출과의 차이를 쉽게 알기는 어려운데, 어간과 단어의 기본형의 차이는 사전에 나오는 단어인지 아닌지로 구분할 수 있다. 예를 들어 '작다'의 어간은 '작'인데, '작'은 언어학적인 관점에서 추출된 어간일 뿐 사전에 나오는 독립된 의미를 갖는 단어는 아니다. 스테머도 이런 어간을 형태적으로 분리해내는 것이지, 사전적 의미를 분석해 어간을 추출하는 것이 아니다. 따라서 스테밍 결과가 사전에 없는 단어라고 해서 당황할 필요는 없다.\n",
    "\n",
    "이와 같은 차이에서 본다면 표제어 추출은 의미적 관점에서 '단어의 기본형'을 찾는 작업이라고 할 수 있고, 사전을 이용해 사전에 정의된 기본형으로 변환한다. 영어에 대한 표제어 추출기(lemmatizer)로는 유명한 어휘 데이터베이스인 WordNet을 이용한 WordNetLemmatizer가 잘 알려져 있다. 아래는 NLTK가 지원하는 WordNetLemmatizer로 표제어를 추출하는 예시다."
   ]
  },
  {
   "cell_type": "code",
   "execution_count": 5,
   "metadata": {},
   "outputs": [
    {
     "name": "stdout",
     "output_type": "stream",
     "text": [
      "cooking\n",
      "cook\n",
      "cookery\n",
      "cookbook\n"
     ]
    }
   ],
   "source": [
    "from nltk.stem import WordNetLemmatizer\n",
    "\n",
    "lemmatizer = WordNetLemmatizer()\n",
    "\n",
    "print(lemmatizer.lemmatize('cooking'))\n",
    "print(lemmatizer.lemmatize('cooking', pos='v')) # 품사를 지정\n",
    "print(lemmatizer.lemmatize('cookery'))\n",
    "print(lemmatizer.lemmatize('cookbooks'))"
   ]
  },
  {
   "cell_type": "markdown",
   "metadata": {},
   "source": [
    "스테머와는 다른 결과를 볼 수 있는데, WordNetLemmatizer는 품사를 따로 지정하지 않으면 cooking에 대한 기본형으로 동일한 cooking을 반환한다. 이는 사전에 cooking이라는 명사가 존재하기 때문이다. 그러나 품사를 나타내는 매개변수 pos에 동사를 의미하는 인수 'v'를 넘겨주면 cook을 반환한다. cookery에 대해서도 사전에 있는 본래의 cookery를 그대로 반환한다.\n",
    "\n",
    "위의 결과로 표제어 추출은 사전에 있는 단어의 기본형을 반환하며 이를 위해 품사가 필요할 수 도 있다는 사실을 알 수 있다. 다시 말해 문장에 있는 단어의 정확한 기본형을 알기 위해서는 품사가 필요할 경우가 있는 것이다. 같은 cooking이라도 명사로 쓰였을 수도 있고 동사의 진행형으로 쓰였을 수도 있다. 따라서 정확한 기본형을 알기 위해서는 품사를 알아야하는데, 품사는 문장의 문맥을 파악해야만 알 수 있다. 품사를 파악하는 방법은 다음 파트인 '품사 태깅' 파트에서 알아보도록 한다."
   ]
  },
  {
   "cell_type": "code",
   "execution_count": 6,
   "metadata": {},
   "outputs": [
    {
     "name": "stdout",
     "output_type": "stream",
     "text": [
      "stemming result: believ\n",
      "lemmatizing result: belief\n",
      "lemmatizing result: believe\n"
     ]
    }
   ],
   "source": [
    "# lemmatizing과 stemming 비교\n",
    "from nltk.stem import PorterStemmer, WordNetLemmatizer\n",
    "\n",
    "stemmer = PorterStemmer()\n",
    "lemmatizer = WordNetLemmatizer()\n",
    "\n",
    "print('stemming result:', stemmer.stem('believes'))\n",
    "print('lemmatizing result:', lemmatizer.lemmatize('believes'))\n",
    "print('lemmatizing result:', lemmatizer.lemmatize('believes', pos='v'))"
   ]
  }
 ],
 "metadata": {
  "interpreter": {
   "hash": "ed2b792a06f852f8a67625a13650f047b0b4c8cfe7bcb6127fab4c31b8414b3a"
  },
  "kernelspec": {
   "display_name": "Python 3.9.7 ('base')",
   "language": "python",
   "name": "python3"
  },
  "language_info": {
   "codemirror_mode": {
    "name": "ipython",
    "version": 3
   },
   "file_extension": ".py",
   "mimetype": "text/x-python",
   "name": "python",
   "nbconvert_exporter": "python",
   "pygments_lexer": "ipython3",
   "version": "3.9.7"
  },
  "orig_nbformat": 4
 },
 "nbformat": 4,
 "nbformat_minor": 2
}
